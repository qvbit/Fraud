{
 "cells": [
  {
   "cell_type": "code",
   "execution_count": 1,
   "metadata": {
    "collapsed": true
   },
   "outputs": [],
   "source": [
    "import pandas as pd\n",
    "import numpy as np\n",
    "import pickle\n",
    "\n",
    "from generate_features import generate_features\n",
    "from transformations import random_undersample\n",
    "from sklearn.metrics import f1_score"
   ]
  },
  {
   "cell_type": "markdown",
   "metadata": {},
   "source": [
    "Since I don't have the test files I'll just use the train files here for demonstration"
   ]
  },
  {
   "cell_type": "code",
   "execution_count": 2,
   "metadata": {
    "collapsed": true
   },
   "outputs": [],
   "source": [
    "# Load in the data.\n",
    "df_transactions = pd.read_pickle('dataframes/df_transactions.pkl')\n",
    "df_users = pd.read_pickle('dataframes/df_users.pkl')\n",
    "df_fx = pd.read_pickle('dataframes/df_fx.pkl')\n",
    "df_currency = pd.read_pickle('dataframes/df_currency.pkl')"
   ]
  },
  {
   "cell_type": "code",
   "execution_count": 3,
   "metadata": {
    "collapsed": true
   },
   "outputs": [],
   "source": [
    "# Load the model\n",
    "\n",
    "with open('models/rf_clf.pkl', 'rb') as f:\n",
    "    clf = pickle.load(f)"
   ]
  },
  {
   "cell_type": "code",
   "execution_count": 4,
   "metadata": {},
   "outputs": [
    {
     "data": {
      "text/plain": [
       "RandomForestClassifier(bootstrap=True, class_weight=None, criterion='entropy',\n",
       "            max_depth=None, max_features='auto', max_leaf_nodes=None,\n",
       "            min_impurity_decrease=0.0, min_impurity_split=None,\n",
       "            min_samples_leaf=3, min_samples_split=2,\n",
       "            min_weight_fraction_leaf=0.0, n_estimators=10, n_jobs=None,\n",
       "            oob_score=False, random_state=None, verbose=0,\n",
       "            warm_start=False)"
      ]
     },
     "execution_count": 4,
     "metadata": {},
     "output_type": "execute_result"
    }
   ],
   "source": [
    "clf"
   ]
  },
  {
   "cell_type": "markdown",
   "metadata": {},
   "source": [
    "# Part C) How to utilize the model"
   ]
  },
  {
   "cell_type": "markdown",
   "metadata": {},
   "source": [
    "The general idea will be this: When the model predicts a fraudster with a confidence of 60-80%, we will simply alert the agent only. This is because it's possible the model may have made a mistake with such a low confidence and we don't want to negatively impact the user by locking their account (the smooth operation of the app and bank for the user is of paramount importance). \n",
    "\n",
    "However, if the model outputs a probability greater than 80%, we will both lock and alert an agent. Now the model is fairly cofident this is a fraudster and we want to take action immediately in this case. \n",
    "\n",
    "We will not be utilizing the 'just LOCK' option because it doesn't make sense: We don't want to lock an account without even assigning an agent to investigate. This is poor business practice and will result in loss of customers if they have to do all the work to get their account unlocked. If we make the decision to lock an account, an agent should be immediately assigned. And we don't want to do this unless we're quite certain (or else both the user and Revolut will suffer) therefore we do this action only if the model is confident.\n",
    "\n",
    "In summary: Confidence level between 60-80%: Alert Agent. Confidence level between 80-100%: Alert Agent AND Lock account. If the confidence is less than 60%, we don't do anything. This may seem like a high threshold but our model was trained on undersampled data so it may predict many non-fraudsters as fraudsters (again this can be remedied by more advanced techniques but would be time consuming to implement and so I didn't do this to keep it simple). "
   ]
  },
  {
   "cell_type": "code",
   "execution_count": 5,
   "metadata": {
    "scrolled": true
   },
   "outputs": [
    {
     "data": {
      "text/plain": [
       "array(['1872820f-e3ac-4c02-bdc7-727897b60043',\n",
       "       '545ff94d-66f8-4bea-b398-84425fb2301e',\n",
       "       '10376f1a-a28a-4885-8daa-c8ca496026bb',\n",
       "       'fd308db7-0753-4377-879f-6ecf2af14e4f',\n",
       "       '755fe256-a34d-4853-b7ca-d9bb991a86d3'], dtype=object)"
      ]
     },
     "execution_count": 5,
     "metadata": {},
     "output_type": "execute_result"
    }
   ],
   "source": [
    "ids = np.array(df_users['ID'])\n",
    "ids[:5]"
   ]
  },
  {
   "cell_type": "code",
   "execution_count": 6,
   "metadata": {
    "collapsed": true
   },
   "outputs": [],
   "source": [
    "X, y = generate_features(df_transactions=df_transactions,\n",
    "                         df_users=df_users,\n",
    "                         df_fx=df_fx,\n",
    "                         df_currency=df_currency,\n",
    "                         df_countries=None,\n",
    "                         test_time = False)"
   ]
  },
  {
   "cell_type": "code",
   "execution_count": 7,
   "metadata": {
    "collapsed": true
   },
   "outputs": [],
   "source": [
    "confidence = clf.predict_proba(X)[:, 1]\n",
    "\n",
    "decision = ['NOTHING: NON-FRAUDSTER' if c < 0.6\n",
    "            else 'ALERT AGENT: POSSIBLE FRAUDSTER' if (c >= 0.6 and c <= 0.8)\n",
    "            else 'LOCK AND ALERT AGENT: LIKELY FRAUDSTER'\n",
    "            for c in confidence]"
   ]
  },
  {
   "cell_type": "code",
   "execution_count": 8,
   "metadata": {
    "collapsed": true
   },
   "outputs": [],
   "source": [
    "decision_dict = dict(zip(ids, decision))"
   ]
  },
  {
   "cell_type": "code",
   "execution_count": 10,
   "metadata": {},
   "outputs": [
    {
     "data": {
      "text/plain": [
       "0.8400970873786408"
      ]
     },
     "execution_count": 10,
     "metadata": {},
     "output_type": "execute_result"
    }
   ],
   "source": [
    "# classifier score on the ENTIRE unbalanced training set.\n",
    "\n",
    "clf.score(X, y)"
   ]
  },
  {
   "cell_type": "markdown",
   "metadata": {},
   "source": [
    "# Part D) Simple algorithm to output decision a given ID."
   ]
  },
  {
   "cell_type": "code",
   "execution_count": 11,
   "metadata": {
    "collapsed": true
   },
   "outputs": [],
   "source": [
    "def patrol(ID):\n",
    "    return decision_dict[ID]"
   ]
  },
  {
   "cell_type": "code",
   "execution_count": 12,
   "metadata": {},
   "outputs": [
    {
     "name": "stdout",
     "output_type": "stream",
     "text": [
      "Probability:  [0.74035222] % \tAction:  ALERT AGENT: POSSIBLE FRAUDSTER \n",
      "\n",
      "Probability:  [0.24991477] % \tAction:  NOTHING: NON-FRAUDSTER \n",
      "\n",
      "Probability:  [0.0198064] % \tAction:  NOTHING: NON-FRAUDSTER \n",
      "\n",
      "Probability:  [0.21486943] % \tAction:  NOTHING: NON-FRAUDSTER \n",
      "\n",
      "Probability:  [0.12856556] % \tAction:  NOTHING: NON-FRAUDSTER \n",
      "\n",
      "Probability:  [0.69868555] % \tAction:  ALERT AGENT: POSSIBLE FRAUDSTER \n",
      "\n",
      "Probability:  [0.1283685] % \tAction:  NOTHING: NON-FRAUDSTER \n",
      "\n",
      "Probability:  [0.18567942] % \tAction:  NOTHING: NON-FRAUDSTER \n",
      "\n",
      "Probability:  [0.01827188] % \tAction:  NOTHING: NON-FRAUDSTER \n",
      "\n",
      "Probability:  [0.65344745] % \tAction:  ALERT AGENT: POSSIBLE FRAUDSTER \n",
      "\n"
     ]
    }
   ],
   "source": [
    "# Let's look at some examples:\n",
    "\n",
    "for i in range(10):\n",
    "    ID = ids[i]\n",
    "    print('Probability: ', clf.predict_proba(X[i].reshape(1, -1))[:, 1], '%', '\\tAction: ', patrol(ID), '\\n')"
   ]
  },
  {
   "cell_type": "markdown",
   "metadata": {},
   "source": [
    "The system is working as intended. That concludes this project. Please see the full_scripts folder to run all of this via py scripts"
   ]
  }
 ],
 "metadata": {
  "hide_input": false,
  "kernelspec": {
   "display_name": "Python 3",
   "language": "python",
   "name": "python3"
  },
  "language_info": {
   "codemirror_mode": {
    "name": "ipython",
    "version": 3
   },
   "file_extension": ".py",
   "mimetype": "text/x-python",
   "name": "python",
   "nbconvert_exporter": "python",
   "pygments_lexer": "ipython3",
   "version": "3.6.7"
  },
  "varInspector": {
   "cols": {
    "lenName": 16,
    "lenType": 16,
    "lenVar": 40
   },
   "kernels_config": {
    "python": {
     "delete_cmd_postfix": "",
     "delete_cmd_prefix": "del ",
     "library": "var_list.py",
     "varRefreshCmd": "print(var_dic_list())"
    },
    "r": {
     "delete_cmd_postfix": ") ",
     "delete_cmd_prefix": "rm(",
     "library": "var_list.r",
     "varRefreshCmd": "cat(var_dic_list()) "
    }
   },
   "types_to_exclude": [
    "module",
    "function",
    "builtin_function_or_method",
    "instance",
    "_Feature"
   ],
   "window_display": false
  }
 },
 "nbformat": 4,
 "nbformat_minor": 2
}
